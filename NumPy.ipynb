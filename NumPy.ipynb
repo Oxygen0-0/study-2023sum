{
  "nbformat": 4,
  "nbformat_minor": 0,
  "metadata": {
    "colab": {
      "provenance": [],
      "authorship_tag": "ABX9TyMxdDSJf1k+2tPcpEXxqaP4",
      "include_colab_link": true
    },
    "kernelspec": {
      "name": "python3",
      "display_name": "Python 3"
    },
    "language_info": {
      "name": "python"
    }
  },
  "cells": [
    {
      "cell_type": "markdown",
      "metadata": {
        "id": "view-in-github",
        "colab_type": "text"
      },
      "source": [
        "<a href=\"https://colab.research.google.com/github/Oxygen0-0/study-2023sum/blob/main/NumPy.ipynb\" target=\"_parent\"><img src=\"https://colab.research.google.com/assets/colab-badge.svg\" alt=\"Open In Colab\"/></a>"
      ]
    },
    {
      "cell_type": "markdown",
      "source": [
        "# 格點"
      ],
      "metadata": {
        "id": "8QlNt9MIq9r5"
      }
    },
    {
      "cell_type": "code",
      "execution_count": 6,
      "metadata": {
        "colab": {
          "base_uri": "https://localhost:8080/"
        },
        "id": "eG5b7BJzq69A",
        "outputId": "20f29daa-b0f8-46ab-db55-8ef6131ed452"
      },
      "outputs": [
        {
          "output_type": "execute_result",
          "data": {
            "text/plain": [
              "array([1, 2, 3])"
            ]
          },
          "metadata": {},
          "execution_count": 6
        }
      ],
      "source": [
        "import numpy as np\n",
        "x = np.array([1, 2, 3])\n",
        "x"
      ]
    },
    {
      "cell_type": "code",
      "source": [
        "y = np.arange(10)  # 類似 Python 的 range, 但是回傳 array\n",
        "y"
      ],
      "metadata": {
        "colab": {
          "base_uri": "https://localhost:8080/"
        },
        "id": "kddpmzT4rpoq",
        "outputId": "47300c84-8f54-4383-8adc-593086920b9f"
      },
      "execution_count": 18,
      "outputs": [
        {
          "output_type": "execute_result",
          "data": {
            "text/plain": [
              "array([0, 1, 2, 3, 4, 5, 6, 7, 8, 9])"
            ]
          },
          "metadata": {},
          "execution_count": 18
        }
      ]
    },
    {
      "cell_type": "markdown",
      "source": [
        "# 基本運算"
      ],
      "metadata": {
        "id": "XqscoblksKZe"
      }
    },
    {
      "cell_type": "code",
      "source": [
        "a = np.array([1, 2, 3, 6])\n",
        "b = np.linspace(0, 2, 4)  # 建立一個array, 在0與2的範圍之間讓4個點3等分\n",
        "c = a - b\n",
        "c"
      ],
      "metadata": {
        "colab": {
          "base_uri": "https://localhost:8080/"
        },
        "id": "QKi0usHpsOk9",
        "outputId": "1f402a4a-5689-41cd-a1cd-c0533f5a85d9"
      },
      "execution_count": 17,
      "outputs": [
        {
          "output_type": "execute_result",
          "data": {
            "text/plain": [
              "array([1.        , 1.33333333, 1.66666667, 4.        ])"
            ]
          },
          "metadata": {},
          "execution_count": 17
        }
      ]
    },
    {
      "cell_type": "code",
      "source": [
        "a**2"
      ],
      "metadata": {
        "colab": {
          "base_uri": "https://localhost:8080/"
        },
        "id": "LHgXiM_3sdBm",
        "outputId": "0983f8fa-eaec-451a-a7d1-8638bd39e312"
      },
      "execution_count": 9,
      "outputs": [
        {
          "output_type": "execute_result",
          "data": {
            "text/plain": [
              "array([ 1,  4,  9, 36])"
            ]
          },
          "metadata": {},
          "execution_count": 9
        }
      ]
    },
    {
      "cell_type": "markdown",
      "source": [
        "# 全域方法"
      ],
      "metadata": {
        "id": "B1XSxTWzslH_"
      }
    },
    {
      "cell_type": "code",
      "source": [
        "a = np.linspace(-np.pi, np.pi, 100)\n",
        "b = np.sin(a)\n",
        "c = np.cos(a)"
      ],
      "metadata": {
        "id": "M9zxgPEZsmqo"
      },
      "execution_count": 10,
      "outputs": []
    },
    {
      "cell_type": "markdown",
      "source": [
        "# 線性代數"
      ],
      "metadata": {
        "id": "eQBZlVqKs1Yx"
      }
    },
    {
      "cell_type": "code",
      "source": [
        "from numpy.random import rand\n",
        "from numpy.linalg import solve, inv\n",
        "a = np.array([[1, 2, 3], [3, 4, 6.7], [5, 9.0, 5]])\n",
        "a.transpose()"
      ],
      "metadata": {
        "colab": {
          "base_uri": "https://localhost:8080/"
        },
        "id": "EQeIQXnYs2Zw",
        "outputId": "6b3d54b3-7fbc-4c7b-9227-f0a81126301c"
      },
      "execution_count": 11,
      "outputs": [
        {
          "output_type": "execute_result",
          "data": {
            "text/plain": [
              "array([[1. , 3. , 5. ],\n",
              "       [2. , 4. , 9. ],\n",
              "       [3. , 6.7, 5. ]])"
            ]
          },
          "metadata": {},
          "execution_count": 11
        }
      ]
    },
    {
      "cell_type": "code",
      "source": [
        "inv(a)"
      ],
      "metadata": {
        "colab": {
          "base_uri": "https://localhost:8080/"
        },
        "id": "yCnawSPEtJJq",
        "outputId": "736a0802-9a57-4027-e59b-0ab502bed6a7"
      },
      "execution_count": 12,
      "outputs": [
        {
          "output_type": "execute_result",
          "data": {
            "text/plain": [
              "array([[-2.27683616,  0.96045198,  0.07909605],\n",
              "       [ 1.04519774, -0.56497175,  0.1299435 ],\n",
              "       [ 0.39548023,  0.05649718, -0.11299435]])"
            ]
          },
          "metadata": {},
          "execution_count": 12
        }
      ]
    },
    {
      "cell_type": "code",
      "source": [
        "b =  np.array([3, 2, 1])"
      ],
      "metadata": {
        "id": "vk8jb_RXtRg7"
      },
      "execution_count": 13,
      "outputs": []
    },
    {
      "cell_type": "code",
      "source": [
        "solve(a, b)  # 解方程式 ax = b"
      ],
      "metadata": {
        "colab": {
          "base_uri": "https://localhost:8080/"
        },
        "id": "HHQk_udMtV0L",
        "outputId": "9da07721-992a-4110-8294-4e9074e62cf9"
      },
      "execution_count": 14,
      "outputs": [
        {
          "output_type": "execute_result",
          "data": {
            "text/plain": [
              "array([-4.83050847,  2.13559322,  1.18644068])"
            ]
          },
          "metadata": {},
          "execution_count": 14
        }
      ]
    },
    {
      "cell_type": "code",
      "source": [
        "c = rand(3, 3)  # 建立一個 3x3 隨機矩陣\n",
        "c"
      ],
      "metadata": {
        "colab": {
          "base_uri": "https://localhost:8080/"
        },
        "id": "PmoggA4JtbPj",
        "outputId": "d0a832f1-6abc-4548-cbb3-516b5496d4a3"
      },
      "execution_count": 15,
      "outputs": [
        {
          "output_type": "execute_result",
          "data": {
            "text/plain": [
              "array([[0.14946652, 0.80622262, 0.84845202],\n",
              "       [0.30590344, 0.86146409, 0.60870158],\n",
              "       [0.50541662, 0.29224007, 0.90617163]])"
            ]
          },
          "metadata": {},
          "execution_count": 15
        }
      ]
    },
    {
      "cell_type": "code",
      "source": [
        "np.dot(a, c)  # 矩陣相乘"
      ],
      "metadata": {
        "colab": {
          "base_uri": "https://localhost:8080/"
        },
        "id": "-xFILhQFthMb",
        "outputId": "041d01ec-0714-435c-e311-e41afb2287fa"
      },
      "execution_count": 16,
      "outputs": [
        {
          "output_type": "execute_result",
          "data": {
            "text/plain": [
              "array([[ 2.27752327,  3.40587103,  4.78437005],\n",
              "       [ 5.0583047 ,  7.82253274, 11.05151226],\n",
              "       [ 6.02754668, 13.24549032, 14.25143242]])"
            ]
          },
          "metadata": {},
          "execution_count": 16
        }
      ]
    }
  ]
}